{
 "cells": [
  {
   "cell_type": "code",
   "execution_count": 1,
   "metadata": {},
   "outputs": [],
   "source": [
    "from langchain.llms import Ollama\n",
    "import pandas as pd\n",
    "import requests"
   ]
  },
  {
   "cell_type": "code",
   "execution_count": 2,
   "metadata": {},
   "outputs": [],
   "source": [
    "ollama_instance = Ollama(base_url=\"http://122.176.146.28:11434\",\n",
    "model=\"test14\")"
   ]
  },
  {
   "cell_type": "code",
   "execution_count": 3,
   "metadata": {},
   "outputs": [
    {
     "name": "stderr",
     "output_type": "stream",
     "text": [
      "/var/folders/6b/y9rmr43j0h96w89p3mq4z8sw0000gn/T/ipykernel_39333/855857288.py:1: LangChainDeprecationWarning: The method `BaseLLM.__call__` was deprecated in langchain-core 0.1.7 and will be removed in 1.0. Use :meth:`~invoke` instead.\n",
      "  print (ollama_instance(\"zone wise trend\"))\n"
     ]
    },
    {
     "name": "stdout",
     "output_type": "stream",
     "text": [
      "{\n",
      "  \"rows\": [\"Zone\"],\n",
      "  \"columns\": [\"Order Date\", {\"format\": \"Year\"}],\n",
      "  \"values\": [\n",
      "    {\n",
      "      \"column\": \"Sales\",\n",
      "      \"measure\": \"sum\"\n",
      "    }\n",
      "  ],\n",
      "  \"filters\": []\n",
      "}\n"
     ]
    }
   ],
   "source": [
    "print (ollama_instance(\"zone wise trend\"))"
   ]
  }
 ],
 "metadata": {
  "kernelspec": {
   "display_name": "Python 3",
   "language": "python",
   "name": "python3"
  },
  "language_info": {
   "codemirror_mode": {
    "name": "ipython",
    "version": 3
   },
   "file_extension": ".py",
   "mimetype": "text/x-python",
   "name": "python",
   "nbconvert_exporter": "python",
   "pygments_lexer": "ipython3",
   "version": "3.12.2"
  }
 },
 "nbformat": 4,
 "nbformat_minor": 2
}

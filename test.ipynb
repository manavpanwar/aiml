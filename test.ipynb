{
 "cells": [
  {
   "cell_type": "code",
   "execution_count": 2,
   "metadata": {},
   "outputs": [
    {
     "name": "stdout",
     "output_type": "stream",
     "text": [
      "An error occurred: HTTPConnectionPool(host='122.176.146.28', port=11434): Max retries exceeded with url: /api/generate (Caused by ConnectTimeoutError(<urllib3.connection.HTTPConnection object at 0x109f48890>, 'Connection to 122.176.146.28 timed out. (connect timeout=None)'))\n"
     ]
    }
   ],
   "source": [
    "from langchain.llms import Ollama  # Ensure this is the correct import\n",
    "\n",
    "# Create an instance of the Ollama model\n",
    "ollama_instance = Ollama(base_url='http://122.176.146.28:11434', model=\"vizlab\")\n",
    "\n",
    "# Ask a question and print the response\n",
    "try:\n",
    "    response = ollama_instance(\"zone wise trend\")  # Use the instance to call the model\n",
    "    print(response)\n",
    "except Exception as e:\n",
    "    print(f\"An error occurred: {e}\")\n",
    "\n"
   ]
  }
 ],
 "metadata": {
  "kernelspec": {
   "display_name": "Python 3",
   "language": "python",
   "name": "python3"
  },
  "language_info": {
   "codemirror_mode": {
    "name": "ipython",
    "version": 3
   },
   "file_extension": ".py",
   "mimetype": "text/x-python",
   "name": "python",
   "nbconvert_exporter": "python",
   "pygments_lexer": "ipython3",
   "version": "3.12.2"
  }
 },
 "nbformat": 4,
 "nbformat_minor": 2
}

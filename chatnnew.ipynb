{
 "cells": [
  {
   "cell_type": "code",
   "execution_count": 1,
   "metadata": {},
   "outputs": [
    {
     "name": "stdout",
     "output_type": "stream",
     "text": [
      "Chat with the model. Type 'exit' to quit.\n"
     ]
    },
    {
     "name": "stderr",
     "output_type": "stream",
     "text": [
      "/var/folders/6b/y9rmr43j0h96w89p3mq4z8sw0000gn/T/ipykernel_71921/480783717.py:19: LangChainDeprecationWarning: The method `BaseLLM.__call__` was deprecated in langchain-core 0.1.7 and will be removed in 1.0. Use :meth:`~invoke` instead.\n",
      "  response = ollama_instance(user_input)  # Use the instance to call the model\n"
     ]
    },
    {
     "name": "stdout",
     "output_type": "stream",
     "text": [
      "Model: {\"columns\": [\"Category\", \"Sub-Category\"], \"rows\": [\"Product\", \"Region\", \"Segment\", \"Date\"], \"values\": [\"Sales\", \"Profit\"], \"filters\": [\"Channel\"] }\n",
      "Model: {\n",
      "  \"rows\": [],\n",
      "  \"values\": [],\n",
      "  \"filters\": [\"zone\"],\n",
      "  \"columns\": []\n",
      "}\n",
      "Exiting chat.\n"
     ]
    }
   ],
   "source": [
    "from langchain.llms import Ollama  # Ensure this is the correct import\n",
    "\n",
    "# Create an instance of the Ollama model\n",
    "ollama_instance = Ollama(base_url='http://122.176.146.28:11434', model=\"vizlab\")\n",
    "\n",
    "def chat_with_model():\n",
    "    print(\"Chat with the model. Type 'exit' to quit.\")\n",
    "    while True:\n",
    "        # Get user input\n",
    "        user_input = input(\"You: \")\n",
    "        \n",
    "        # Exit the loop if the user types 'exit'\n",
    "        if user_input.lower() == 'exit':\n",
    "            print(\"Exiting chat.\")\n",
    "            break\n",
    "        \n",
    "        # Send the input to the model and get the response\n",
    "        try:\n",
    "            response = ollama_instance(user_input)  # Use the instance to call the model\n",
    "            print(f\"Model: {response}\")\n",
    "        except Exception as e:\n",
    "            print(f\"An error occurred: {e}\")\n",
    "\n",
    "# Start the chat\n",
    "chat_with_model()\n"
   ]
  }
 ],
 "metadata": {
  "kernelspec": {
   "display_name": "Python 3",
   "language": "python",
   "name": "python3"
  },
  "language_info": {
   "codemirror_mode": {
    "name": "ipython",
    "version": 3
   },
   "file_extension": ".py",
   "mimetype": "text/x-python",
   "name": "python",
   "nbconvert_exporter": "python",
   "pygments_lexer": "ipython3",
   "version": "3.12.2"
  }
 },
 "nbformat": 4,
 "nbformat_minor": 2
}
